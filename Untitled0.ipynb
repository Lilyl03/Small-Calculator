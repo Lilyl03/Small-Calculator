{
  "nbformat": 4,
  "nbformat_minor": 0,
  "metadata": {
    "colab": {
      "provenance": [],
      "authorship_tag": "ABX9TyMHxNKEYtaXnNwOVyZn65xi",
      "include_colab_link": true
    },
    "kernelspec": {
      "name": "python3",
      "display_name": "Python 3"
    },
    "language_info": {
      "name": "python"
    }
  },
  "cells": [
    {
      "cell_type": "markdown",
      "metadata": {
        "id": "view-in-github",
        "colab_type": "text"
      },
      "source": [
        "<a href=\"https://colab.research.google.com/github/Lilyl03/drafts/blob/master/Untitled0.ipynb\" target=\"_parent\"><img src=\"https://colab.research.google.com/assets/colab-badge.svg\" alt=\"Open In Colab\"/></a>"
      ]
    },
    {
      "cell_type": "markdown",
      "source": [
        " Հարց 2"
      ],
      "metadata": {
        "id": "KcwwghBtfjP4"
      }
    },
    {
      "cell_type": "code",
      "source": [
        "\n",
        "fruits=[\"apple\", \"banana\", \"cherry\"]\n",
        "print(fruits[1])\n",
        "fruits[0]=\"kivi\"\n",
        "fruits.append(\"orange\")\n",
        "print(fruits)\n",
        "fruits.insert(3,\"lemon\")\n",
        "print(fruits)\n",
        "del fruits[1]\n",
        "print(fruits)\n",
        "print(fruits[-1])"
      ],
      "metadata": {
        "colab": {
          "base_uri": "https://localhost:8080/"
        },
        "id": "NaPw0yc_moCF",
        "outputId": "81fa8c2c-182e-49b2-b552-9e55e1c47bc1"
      },
      "execution_count": null,
      "outputs": [
        {
          "output_type": "stream",
          "name": "stdout",
          "text": [
            "banana\n",
            "['kivi', 'banana', 'cherry', 'orange']\n",
            "['kivi', 'banana', 'cherry', 'lemon', 'orange']\n",
            "['kivi', 'cherry', 'lemon', 'orange']\n",
            "orange\n"
          ]
        }
      ]
    },
    {
      "cell_type": "markdown",
      "source": [
        "Հարց 3"
      ],
      "metadata": {
        "id": "y-sPOoi8eWuX"
      }
    },
    {
      "cell_type": "code",
      "source": [
        "x=range(10) \n",
        "y=range(2,10) \n",
        "z=range(1,10,3) \n",
        "print(type(x)) \n",
        "s=list(x)\n",
        "print(x[0])\n",
        "print(x[-1])\n",
        "print(y[0])\n",
        "print(y[-1])\n",
        "print(z[0])\n",
        "print(z[-1])"
      ],
      "metadata": {
        "colab": {
          "base_uri": "https://localhost:8080/"
        },
        "id": "C-OV8JvMd0ye",
        "outputId": "7041eb76-a601-4856-8972-cf31ffff81d3"
      },
      "execution_count": null,
      "outputs": [
        {
          "output_type": "stream",
          "name": "stdout",
          "text": [
            "<class 'range'>\n",
            "0\n",
            "9\n",
            "2\n",
            "9\n",
            "1\n",
            "7\n"
          ]
        }
      ]
    },
    {
      "cell_type": "markdown",
      "source": [
        "Հարց 6"
      ],
      "metadata": {
        "id": "P94iqiX2fQbs"
      }
    },
    {
      "cell_type": "code",
      "source": [
        "\n",
        "\n",
        "a=list(range(12,101,3))\n",
        "print(a[-5:-1])"
      ],
      "metadata": {
        "colab": {
          "base_uri": "https://localhost:8080/"
        },
        "id": "7RF_2Wo4fVxE",
        "outputId": "1b1e9af2-1fcb-40ea-ac2c-2476f241a0be"
      },
      "execution_count": null,
      "outputs": [
        {
          "output_type": "stream",
          "name": "stdout",
          "text": [
            "[87, 90, 93, 96]\n"
          ]
        }
      ]
    },
    {
      "cell_type": "markdown",
      "source": [
        "Հարց 8"
      ],
      "metadata": {
        "id": "t5F45E6enCX8"
      }
    },
    {
      "cell_type": "code",
      "source": [
        "\n",
        "a=int(input(\"When were you born?:\"))\n",
        "age=2023-a\n",
        "print(age)"
      ],
      "metadata": {
        "colab": {
          "base_uri": "https://localhost:8080/"
        },
        "id": "SyHZUQfWnMM0",
        "outputId": "6a202608-225f-4757-99d2-fd14b1111b97"
      },
      "execution_count": null,
      "outputs": [
        {
          "output_type": "stream",
          "name": "stdout",
          "text": [
            "When were you born?:2003\n",
            "20\n"
          ]
        }
      ]
    }
  ]
}